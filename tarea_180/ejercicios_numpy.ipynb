{
 "cells": [
  {
   "cell_type": "markdown",
   "metadata": {
    "slideshow": {
     "slide_type": "slide"
    }
   },
   "source": [
    "------------------------------------------------------------------------------------------------------<br>\n",
    "<h3 style=\"background:#87a1c2; color:#ffffff; padding:20px; border-radius:5px;\">✍ EJERCICIOS NUMPY PARA @EGGERS</h3><br>\n",
    "------------------------------------------------------------------------------------------------------<br>"
   ]
  },
  {
   "cell_type": "markdown",
   "metadata": {
    "slideshow": {
     "slide_type": "slide"
    }
   },
   "source": [
    "1. Crea un vector entre 7 y 66.\n",
    "2. Invierte el vector generado anteriormente.\n",
    "3. Matriz de 4x4 con valores entre 0 y 15.\n",
    "5. Crea la matriz identidad de 5x5.\n",
    "6. Crea una matriz de 5x5 donde la posición central y todas las posiciones que conforman el marco valgan 1 y el resto 0.\n",
    "7. Matriz de 4x4 donde cada fila valga entre 3 y 0. Valores in crescendo.\n",
    "8. Crea un array de ceros de 2x7.\n",
    "9. Crea un array de ceros de 5x4 excepto toda la primera fila que valga 1.\n",
    "10. Crea un array que represente una tabla de ajedrez. Negras 1 y blancas 0."
   ]
  },
  {
   "attachments": {},
   "cell_type": "markdown",
   "metadata": {},
   "source": [
    "---"
   ]
  },
  {
   "attachments": {},
   "cell_type": "markdown",
   "metadata": {},
   "source": [
    "### 0. Importar librerías."
   ]
  },
  {
   "cell_type": "code",
   "execution_count": 11,
   "metadata": {},
   "outputs": [],
   "source": [
    "# Importamos la librería numpy con alias np\n",
    "import numpy as np"
   ]
  },
  {
   "attachments": {},
   "cell_type": "markdown",
   "metadata": {},
   "source": [
    "### 1. Crea un vector entre 7 y 66.\n"
   ]
  },
  {
   "cell_type": "code",
   "execution_count": 12,
   "metadata": {},
   "outputs": [
    {
     "name": "stdout",
     "output_type": "stream",
     "text": [
      "<class 'numpy.ndarray'>\n",
      "float64\n",
      "[ 7.  8.  9. 10. 11. 12. 13. 14. 15. 16. 17. 18. 19. 20. 21. 22. 23. 24.\n",
      " 25. 26. 27. 28. 29. 30. 31. 32. 33. 34. 35. 36. 37. 38. 39. 40. 41. 42.\n",
      " 43. 44. 45. 46. 47. 48. 49. 50. 51. 52. 53. 54. 55. 56. 57. 58. 59. 60.\n",
      " 61. 62. 63. 64. 65. 66.]\n"
     ]
    }
   ],
   "source": [
    "# creamos el vector\n",
    "vector = np.linspace(7, 66, num = 60)\n",
    "print(type(vector))\n",
    "print(vector.dtype)\n",
    "print(vector)"
   ]
  },
  {
   "attachments": {},
   "cell_type": "markdown",
   "metadata": {},
   "source": [
    "---"
   ]
  },
  {
   "attachments": {},
   "cell_type": "markdown",
   "metadata": {},
   "source": [
    "### 2. Invierte el vector generado anteriormente."
   ]
  },
  {
   "cell_type": "code",
   "execution_count": 13,
   "metadata": {},
   "outputs": [
    {
     "name": "stdout",
     "output_type": "stream",
     "text": [
      "[66. 65. 64. 63. 62. 61. 60. 59. 58. 57. 56. 55. 54. 53. 52. 51. 50. 49.\n",
      " 48. 47. 46. 45. 44. 43. 42. 41. 40. 39. 38. 37. 36. 35. 34. 33. 32. 31.\n",
      " 30. 29. 28. 27. 26. 25. 24. 23. 22. 21. 20. 19. 18. 17. 16. 15. 14. 13.\n",
      " 12. 11. 10.  9.  8.  7.]\n",
      "[66. 65. 64. 63. 62. 61. 60. 59. 58. 57. 56. 55. 54. 53. 52. 51. 50. 49.\n",
      " 48. 47. 46. 45. 44. 43. 42. 41. 40. 39. 38. 37. 36. 35. 34. 33. 32. 31.\n",
      " 30. 29. 28. 27. 26. 25. 24. 23. 22. 21. 20. 19. 18. 17. 16. 15. 14. 13.\n",
      " 12. 11. 10.  9.  8.  7.]\n"
     ]
    }
   ],
   "source": [
    "# Opción A para invertir un vector\n",
    "inv_vector = vector[::-1]\n",
    "print(inv_vector)\n",
    "\n",
    "# Opción B para invertir un vector\n",
    "inv_vector = np.flip(vector)\n",
    "print(inv_vector)"
   ]
  },
  {
   "attachments": {},
   "cell_type": "markdown",
   "metadata": {},
   "source": [
    "---"
   ]
  },
  {
   "attachments": {},
   "cell_type": "markdown",
   "metadata": {},
   "source": [
    "### 3. Matriz de 4x4 con valores entre 0 y 15.\n"
   ]
  },
  {
   "cell_type": "code",
   "execution_count": 21,
   "metadata": {},
   "outputs": [
    {
     "name": "stdout",
     "output_type": "stream",
     "text": [
      "[[0, 1, 2, 3], [4, 5, 6, 7], [8, 9, 10, 11], [12, 13, 14, 15]]\n",
      "(4, 4)\n",
      "[[ 0  1  2  3]\n",
      " [ 4  5  6  7]\n",
      " [ 8  9 10 11]\n",
      " [12 13 14 15]]\n"
     ]
    }
   ],
   "source": [
    "# Creación de una matriz de 4x4 con valores entre 0 y 15\n",
    "\n",
    "matriz = [\n",
    "    [0, 1, 2, 3],\n",
    "    [4, 5, 6, 7],\n",
    "    [8, 9, 10, 11],\n",
    "    [12, 13, 14, 15]]\n",
    "print(matriz)\n",
    "\n",
    "matriz = np.empty((4,4))\n",
    "print(matriz.shape)\n",
    "\n",
    "matriz = np.arange(4 * 4).reshape(4, 4)\n",
    "print(matriz)"
   ]
  },
  {
   "attachments": {},
   "cell_type": "markdown",
   "metadata": {},
   "source": [
    "### 4. Crea la matriz identidad de 5x5.\n"
   ]
  },
  {
   "cell_type": "code",
   "execution_count": 22,
   "metadata": {},
   "outputs": [
    {
     "name": "stdout",
     "output_type": "stream",
     "text": [
      "[[1 0 0 0 0]\n",
      " [0 1 0 0 0]\n",
      " [0 0 1 0 0]\n",
      " [0 0 0 1 0]\n",
      " [0 0 0 0 1]]\n"
     ]
    }
   ],
   "source": [
    "matriz = np.identity(5).astype(int)\n",
    "print(matriz)"
   ]
  },
  {
   "attachments": {},
   "cell_type": "markdown",
   "metadata": {},
   "source": [
    "### 5. Crea una matriz de 5x5 donde la posición central y todas las posiciones que conforman el marco valgan 1 y el resto 0."
   ]
  },
  {
   "cell_type": "code",
   "execution_count": 28,
   "metadata": {},
   "outputs": [
    {
     "name": "stdout",
     "output_type": "stream",
     "text": [
      "[[1 1 1 1 1]\n",
      " [1 1 1 0 1]\n",
      " [1 1 1 1 1]\n",
      " [1 0 1 1 1]\n",
      " [1 1 1 1 1]]\n"
     ]
    }
   ],
   "source": [
    "matriz = np.identity(5).astype(int)\n",
    "matriz[2,:]  = 1\n",
    "matriz[:,2]  = 1\n",
    "matriz[0,:]  = 1\n",
    "matriz[-1,:] = 1\n",
    "matriz[:,0]  = 1\n",
    "matriz[:,-1] = 1\n",
    "print(matriz)"
   ]
  },
  {
   "cell_type": "code",
   "execution_count": 34,
   "metadata": {},
   "outputs": [
    {
     "name": "stdout",
     "output_type": "stream",
     "text": [
      "[[ 1  1  1  1  1]\n",
      " [ 1  0  0  0  1]\n",
      " [ 1  0  1  0  1]\n",
      " [ 1  0  0  0  1]\n",
      " [ 1  1  1  1  1]]\n"
     ]
    }
   ],
   "source": [
    "# Creamos la matriz de 5x5 llena de ceros con .zeros()\n",
    "matriz = np.zeros((5,5))\n",
    "\n",
    "# Asignamos el valor 1 a la posición central.\n",
    "matriz[2,2]  = 1\n",
    "\n",
    "# Asignamos el valor 1 a la posición que conforman el marco.\n",
    "matriz[0,:]  = 1\n",
    "matriz[-1,:] = 1\n",
    "matriz[:,0]  = 1\n",
    "matriz[:,-1] = 1\n",
    "\n",
    "print(matriz)"
   ]
  },
  {
   "attachments": {},
   "cell_type": "markdown",
   "metadata": {},
   "source": [
    "### 6. Matriz de 4x4 donde cada fila valga entre 3 y 0. Valores in crescendo.\n"
   ]
  },
  {
   "cell_type": "code",
   "execution_count": 41,
   "metadata": {},
   "outputs": [
    {
     "name": "stdout",
     "output_type": "stream",
     "text": [
      "[[3 2 1 0]\n",
      " [3 2 1 0]\n",
      " [3 2 1 0]\n",
      " [3 2 1 0]]\n"
     ]
    }
   ],
   "source": [
    "matriz = np.zeros((4,4), dtype = int)\n",
    "\n",
    "for i in range(4):\n",
    "    matriz[i] = np.arange(3, -1, -1)\n",
    "\n",
    "print(matriz)"
   ]
  },
  {
   "attachments": {},
   "cell_type": "markdown",
   "metadata": {},
   "source": [
    "### 7. Crea un array de ceros de 2x7."
   ]
  },
  {
   "cell_type": "code",
   "execution_count": 42,
   "metadata": {},
   "outputs": [
    {
     "name": "stdout",
     "output_type": "stream",
     "text": [
      "[[ 0  0  0  0  0  0  0]\n",
      " [ 0  0  0  0  0  0  0]]\n"
     ]
    }
   ],
   "source": [
    "matriz = np.zeros((2,7))\n",
    "print(matriz)"
   ]
  },
  {
   "attachments": {},
   "cell_type": "markdown",
   "metadata": {},
   "source": [
    "### 8. Crea un array de ceros de 5x4 excepto toda la primera fila que valga 1."
   ]
  },
  {
   "cell_type": "code",
   "execution_count": 62,
   "metadata": {},
   "outputs": [
    {
     "name": "stdout",
     "output_type": "stream",
     "text": [
      "[[ 1  1  0  0]\n",
      " [ 0  0  0  0]\n",
      " [ 0  0  0  0]\n",
      " [ 0  0  0  0]\n",
      " [ 0  0  0  0]]\n",
      "[[ 1  1  1  1]\n",
      " [ 0  0  0  0]\n",
      " [ 0  0  0  0]\n",
      " [ 0  0  0  0]\n",
      " [ 0  0  0  0]]\n"
     ]
    }
   ],
   "source": [
    "# Opción A\n",
    "\n",
    "matriz = np.zeros((5, 4))\n",
    "\n",
    "matriz[0,:2] = 1\n",
    "print(matriz)\n",
    "\n",
    "# Opción B\n",
    "\n",
    "m = np.vstack([np.ones((1,4)), np.zeros((4,4))])\n",
    "print(m)"
   ]
  },
  {
   "attachments": {},
   "cell_type": "markdown",
   "metadata": {},
   "source": [
    "### 9. Crea un array que represente una tabla de ajedrez. Negras 1 y blancas 0"
   ]
  },
  {
   "cell_type": "code",
   "execution_count": 67,
   "metadata": {},
   "outputs": [
    {
     "name": "stdout",
     "output_type": "stream",
     "text": [
      "[[ 0  1  0  1  0  1  0  1]\n",
      " [ 1  0  1  0  1  0  1  0]\n",
      " [ 0  1  0  1  0  1  0  1]\n",
      " [ 1  0  1  0  1  0  1  0]\n",
      " [ 0  1  0  1  0  1  0  1]\n",
      " [ 1  0  1  0  1  0  1  0]\n",
      " [ 0  1  0  1  0  1  0  1]\n",
      " [ 1  0  1  0  1  0  1  0]]\n"
     ]
    }
   ],
   "source": [
    "# Vamos a crear un tablero de ajedrez \n",
    "# Array de 8x8\n",
    "# 0 = cuadrado blanco\n",
    "# 1 = cuadrado negro\n",
    "\n",
    "# Creamos una matriz de ceros, es decir todos los cuadrados son blancos (0)\n",
    "matriz = np.zeros((8,8))\n",
    "\n",
    "# Cremos los cuadrados negros (1)\n",
    "matriz[1::2, ::2] = 1\n",
    "matriz[::2, 1::2] = 1\n",
    "\n",
    "# Imprimimos la tabla de ajedrez\n",
    "print(matriz)"
   ]
  },
  {
   "cell_type": "code",
   "execution_count": null,
   "metadata": {},
   "outputs": [],
   "source": []
  }
 ],
 "metadata": {
  "kernelspec": {
   "display_name": "Python 3",
   "language": "python",
   "name": "python3"
  },
  "language_info": {
   "codemirror_mode": {
    "name": "ipython",
    "version": 3
   },
   "file_extension": ".py",
   "mimetype": "text/x-python",
   "name": "python",
   "nbconvert_exporter": "python",
   "pygments_lexer": "ipython3",
   "version": "3.10.5"
  }
 },
 "nbformat": 4,
 "nbformat_minor": 1
}
