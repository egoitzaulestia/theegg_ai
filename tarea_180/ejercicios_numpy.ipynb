{
 "cells": [
  {
   "cell_type": "markdown",
   "source": [
    "------------------------------------------------------------------------------------------------------<br>\n",
    "<h3 style=\"background:#87a1c2; color:#ffffff; padding:20px; border-radius:5px;\">✍ EJERCICIOS NUMPY PARA @EGGERS</h3><br>\n",
    "------------------------------------------------------------------------------------------------------<br>"
   ],
   "metadata": {
    "slideshow": {
     "slide_type": "slide"
    }
   }
  },
  {
   "cell_type": "markdown",
   "source": [
    "1. Crea un vector entre 7 y 66.\n",
    "2. Invierte el vector generado anteriormente.\n",
    "3. Matriz de 4x4 con valores entre 0 y 15.\n",
    "5. Crea la matriz identidad de 5x5.\n",
    "6. Crea una matriz de 5x5 donde la posición central y todas las posiciones que conforman el marco valgan 1 y el resto 0.\n",
    "7. Matriz de 4x4 donde cada fila valga entre 3 y 0. Valores in crescendo.\n",
    "8. Crea un array de ceros de 2x7.\n",
    "9. Crea un array de ceros de 5x4 excepto toda la primera fila que valga 1.\n",
    "10. Crea un array que represente una tabla de ajedrez. Negras 1 y blancas 0."
   ],
   "metadata": {
    "slideshow": {
     "slide_type": "slide"
    }
   }
  },
  {
   "cell_type": "code",
   "execution_count": 2,
   "source": [
    "import numpy as np"
   ],
   "outputs": [],
   "metadata": {}
  },
  {
   "cell_type": "code",
   "execution_count": 6,
   "source": [
    "# 1. Crea un vector entre 7 y 66.\n",
    "\n",
    "# creamos el vector\n",
    "vector = np.linspace(7, 66, num = 60)\n",
    "print(type(vector))\n",
    "print(vector.dtype)\n",
    "print(vector)"
   ],
   "outputs": [
    {
     "output_type": "stream",
     "name": "stdout",
     "text": [
      "<class 'numpy.ndarray'>\n",
      "float64\n",
      "[ 7.  8.  9. 10. 11. 12. 13. 14. 15. 16. 17. 18. 19. 20. 21. 22. 23. 24.\n",
      " 25. 26. 27. 28. 29. 30. 31. 32. 33. 34. 35. 36. 37. 38. 39. 40. 41. 42.\n",
      " 43. 44. 45. 46. 47. 48. 49. 50. 51. 52. 53. 54. 55. 56. 57. 58. 59. 60.\n",
      " 61. 62. 63. 64. 65. 66.]\n"
     ]
    }
   ],
   "metadata": {}
  },
  {
   "cell_type": "code",
   "execution_count": null,
   "source": [
    "# 2. Invierte el vector generado anteriormente.\n"
   ],
   "outputs": [],
   "metadata": {}
  }
 ],
 "metadata": {
  "kernelspec": {
   "name": "python3",
   "display_name": "Python 3.11.1 64-bit"
  },
  "language_info": {
   "codemirror_mode": {
    "name": "ipython",
    "version": 3
   },
   "file_extension": ".py",
   "mimetype": "text/x-python",
   "name": "python",
   "nbconvert_exporter": "python",
   "pygments_lexer": "ipython3",
   "version": "3.11.1"
  },
  "interpreter": {
   "hash": "aee8b7b246df8f9039afb4144a1f6fd8d2ca17a180786b69acc140d282b71a49"
  }
 },
 "nbformat": 4,
 "nbformat_minor": 1
}